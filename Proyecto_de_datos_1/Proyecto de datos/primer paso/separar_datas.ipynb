{
 "cells": [
  {
   "cell_type": "code",
   "execution_count": 2,
   "metadata": {},
   "outputs": [],
   "source": [
    "#librerias\n",
    "import pandas as pd\n",
    "import seaborn as sns\n",
    "import numpy as np\n",
    "from datetime import date\n",
    "from scipy import stats\n",
    "import statsmodels.api as sm\n",
    "import statsmodels.formula.api as smf\n",
    "import matplotlib.pyplot as plt\n",
    "\n",
    "#Datasets\n",
    "df = pd.read_csv('bike_rancagua.csv')"
   ]
  },
  {
   "cell_type": "code",
   "execution_count": 3,
   "metadata": {},
   "outputs": [],
   "source": [
    "#Eliminamos la ultima columna\n",
    "df = df.drop ('Unnamed: 5', axis = 1)"
   ]
  },
  {
   "cell_type": "code",
   "execution_count": 4,
   "metadata": {},
   "outputs": [
    {
     "data": {
      "text/plain": [
       "Time                                  datetime64[ns]\n",
       "Alameda                                      float64\n",
       "Cabello                                      float64\n",
       "República de Chile con San Joaquín           float64\n",
       "San Juan con Escrivá de Balaguer             float64\n",
       "dtype: object"
      ]
     },
     "execution_count": 4,
     "metadata": {},
     "output_type": "execute_result"
    }
   ],
   "source": [
    "df['Time'] = pd.to_datetime(df['Time'])\n",
    "df.dtypes"
   ]
  },
  {
   "cell_type": "code",
   "execution_count": 8,
   "metadata": {},
   "outputs": [],
   "source": [
    "Alameda = df[['Time', 'Alameda']].copy()\n",
    "Cabello = df[['Time', 'Cabello']].copy()\n",
    "Repúblicad_con_San_Joaquín = df[['Time', 'República de Chile con San Joaquín']].copy()\n",
    "San_Juan_con_Escrivá = df[['Time', 'San Juan con Escrivá de Balaguer']].copy()"
   ]
  },
  {
   "cell_type": "code",
   "execution_count": 9,
   "metadata": {},
   "outputs": [],
   "source": [
    "Alameda.to_csv('Alameda.csv', index=False)\n",
    "Cabello.to_csv('Cabello.csv', index=False)\n",
    "Repúblicad_con_San_Joaquín.to_csv('Repúblicad_con_San_Joaquín.csv', index=False)\n",
    "San_Juan_con_Escrivá.to_csv('San_Juan_con_Escrivá.csv', index=False)"
   ]
  }
 ],
 "metadata": {
  "kernelspec": {
   "display_name": "Python 3",
   "language": "python",
   "name": "python3"
  },
  "language_info": {
   "codemirror_mode": {
    "name": "ipython",
    "version": 3
   },
   "file_extension": ".py",
   "mimetype": "text/x-python",
   "name": "python",
   "nbconvert_exporter": "python",
   "pygments_lexer": "ipython3",
   "version": "3.12.3"
  }
 },
 "nbformat": 4,
 "nbformat_minor": 2
}
